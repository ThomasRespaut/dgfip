{
 "cells": [
  {
   "cell_type": "code",
   "outputs": [
    {
     "name": "stdout",
     "output_type": "stream",
     "text": [
      "Requirement already satisfied: pandas in c:\\users\\thoma\\pycharmprojects\\dgfip\\.venv\\lib\\site-packages (2.3.0)\n",
      "Requirement already satisfied: numpy>=1.26.0 in c:\\users\\thoma\\pycharmprojects\\dgfip\\.venv\\lib\\site-packages (from pandas) (2.3.1)\n",
      "Requirement already satisfied: python-dateutil>=2.8.2 in c:\\users\\thoma\\pycharmprojects\\dgfip\\.venv\\lib\\site-packages (from pandas) (2.9.0.post0)\n",
      "Requirement already satisfied: pytz>=2020.1 in c:\\users\\thoma\\pycharmprojects\\dgfip\\.venv\\lib\\site-packages (from pandas) (2025.2)\n",
      "Requirement already satisfied: tzdata>=2022.7 in c:\\users\\thoma\\pycharmprojects\\dgfip\\.venv\\lib\\site-packages (from pandas) (2025.2)\n",
      "Requirement already satisfied: six>=1.5 in c:\\users\\thoma\\pycharmprojects\\dgfip\\.venv\\lib\\site-packages (from python-dateutil>=2.8.2->pandas) (1.17.0)\n"
     ]
    },
    {
     "name": "stderr",
     "output_type": "stream",
     "text": [
      "\n",
      "[notice] A new release of pip is available: 23.2.1 -> 25.1.1\n",
      "[notice] To update, run: python.exe -m pip install --upgrade pip\n"
     ]
    }
   ],
   "source": [
    "!pip install pandas"
   ],
   "metadata": {
    "collapsed": false,
    "ExecuteTime": {
     "end_time": "2025-06-25T08:08:51.193985Z",
     "start_time": "2025-06-25T08:08:46.146803Z"
    }
   },
   "id": "d1980bdcc35f122d",
   "execution_count": 5
  },
  {
   "cell_type": "code",
   "execution_count": 6,
   "id": "initial_id",
   "metadata": {
    "collapsed": true,
    "ExecuteTime": {
     "end_time": "2025-06-25T08:08:53.127221Z",
     "start_time": "2025-06-25T08:08:51.194991Z"
    }
   },
   "outputs": [],
   "source": [
    "import pandas as pd"
   ]
  },
  {
   "cell_type": "code",
   "outputs": [
    {
     "data": {
      "text/plain": "   Unnamed: 0                                           question  num_texte\n0         792  Quelle obligation subsiste pour un contrat de ...         72\n1         328  Que se passe-t-il si l’avis d’impôt est reçu e...         32\n2         614  Dans quel délai doit-on déposer une déclaratio...         58\n3         159  Comment un entrepreneur relevant du régime rée...         15\n4         967  Quelle condition relative à l'occupation doit ...         83",
      "text/html": "<div>\n<style scoped>\n    .dataframe tbody tr th:only-of-type {\n        vertical-align: middle;\n    }\n\n    .dataframe tbody tr th {\n        vertical-align: top;\n    }\n\n    .dataframe thead th {\n        text-align: right;\n    }\n</style>\n<table border=\"1\" class=\"dataframe\">\n  <thead>\n    <tr style=\"text-align: right;\">\n      <th></th>\n      <th>Unnamed: 0</th>\n      <th>question</th>\n      <th>num_texte</th>\n    </tr>\n  </thead>\n  <tbody>\n    <tr>\n      <th>0</th>\n      <td>792</td>\n      <td>Quelle obligation subsiste pour un contrat de ...</td>\n      <td>72</td>\n    </tr>\n    <tr>\n      <th>1</th>\n      <td>328</td>\n      <td>Que se passe-t-il si l’avis d’impôt est reçu e...</td>\n      <td>32</td>\n    </tr>\n    <tr>\n      <th>2</th>\n      <td>614</td>\n      <td>Dans quel délai doit-on déposer une déclaratio...</td>\n      <td>58</td>\n    </tr>\n    <tr>\n      <th>3</th>\n      <td>159</td>\n      <td>Comment un entrepreneur relevant du régime rée...</td>\n      <td>15</td>\n    </tr>\n    <tr>\n      <th>4</th>\n      <td>967</td>\n      <td>Quelle condition relative à l'occupation doit ...</td>\n      <td>83</td>\n    </tr>\n  </tbody>\n</table>\n</div>"
     },
     "execution_count": 7,
     "metadata": {},
     "output_type": "execute_result"
    }
   ],
   "source": [
    "questions = pd.read_csv(\"questions_fiches_fip.csv\")\n",
    "questions.head(5)"
   ],
   "metadata": {
    "collapsed": false,
    "ExecuteTime": {
     "end_time": "2025-06-25T08:08:53.177121Z",
     "start_time": "2025-06-25T08:08:53.128715Z"
    }
   },
   "id": "aff65e371a94ac3b",
   "execution_count": 7
  },
  {
   "cell_type": "code",
   "outputs": [
    {
     "name": "stdout",
     "output_type": "stream",
     "text": [
      "(1427, 3)\n"
     ]
    }
   ],
   "source": [
    "print(questions.shape)"
   ],
   "metadata": {
    "collapsed": false,
    "ExecuteTime": {
     "end_time": "2025-06-25T08:08:53.183062Z",
     "start_time": "2025-06-25T08:08:53.178445Z"
    }
   },
   "id": "c0e50cfa02104b05",
   "execution_count": 8
  },
  {
   "cell_type": "code",
   "outputs": [
    {
     "data": {
      "text/plain": "   Unnamed: 0                                           niveau_0  \\\n0           0  https://www.impots.gouv.fr/particulier/declare...   \n1           1  https://www.impots.gouv.fr/particulier/declare...   \n2           2  https://www.impots.gouv.fr/particulier/declare...   \n3           3  https://www.impots.gouv.fr/particulier/declare...   \n4           4  https://www.impots.gouv.fr/particulier/declare...   \n\n                                            niveau_1  \\\n0  https://www.impots.gouv.fr/particulier/je-decl...   \n1  https://www.impots.gouv.fr/particulier/je-decl...   \n2  https://www.impots.gouv.fr/particulier/je-decl...   \n3  https://www.impots.gouv.fr/particulier/je-decl...   \n4  https://www.impots.gouv.fr/particulier/je-decl...   \n\n                                                 URL  \\\n0  https://www.impots.gouv.fr/particulier/lobliga...   \n1  https://www.impots.gouv.fr/particulier/modalit...   \n2  https://www.impots.gouv.fr/particulier/declare...   \n3  https://www.impots.gouv.fr/particulier/votre-s...   \n4  https://www.impots.gouv.fr/particulier/enfants...   \n\n                        Titre  \\\n0    OBLIGATIONS DÉCLARATIVES   \n1    MODALITÉS DE DÉCLARATION   \n2           DÉCLAREZ EN LIGNE   \n3  VOTRE SITUATION DE FAMILLE   \n4             ENFANTS MINEURS   \n\n                                               Texte  \n0  Obligations déclaratives\\nL'obligation de décl...  \n1  Modalités de déclaration\\nLe principe : une se...  \n2  Déclarez en ligne\\nLes avantages de la déclara...  \n3  Votre situation de famille\\nPrélèvement à la s...  \n4  Enfants mineurs\\nPrélèvement à la source : afi...  ",
      "text/html": "<div>\n<style scoped>\n    .dataframe tbody tr th:only-of-type {\n        vertical-align: middle;\n    }\n\n    .dataframe tbody tr th {\n        vertical-align: top;\n    }\n\n    .dataframe thead th {\n        text-align: right;\n    }\n</style>\n<table border=\"1\" class=\"dataframe\">\n  <thead>\n    <tr style=\"text-align: right;\">\n      <th></th>\n      <th>Unnamed: 0</th>\n      <th>niveau_0</th>\n      <th>niveau_1</th>\n      <th>URL</th>\n      <th>Titre</th>\n      <th>Texte</th>\n    </tr>\n  </thead>\n  <tbody>\n    <tr>\n      <th>0</th>\n      <td>0</td>\n      <td>https://www.impots.gouv.fr/particulier/declare...</td>\n      <td>https://www.impots.gouv.fr/particulier/je-decl...</td>\n      <td>https://www.impots.gouv.fr/particulier/lobliga...</td>\n      <td>OBLIGATIONS DÉCLARATIVES</td>\n      <td>Obligations déclaratives\\nL'obligation de décl...</td>\n    </tr>\n    <tr>\n      <th>1</th>\n      <td>1</td>\n      <td>https://www.impots.gouv.fr/particulier/declare...</td>\n      <td>https://www.impots.gouv.fr/particulier/je-decl...</td>\n      <td>https://www.impots.gouv.fr/particulier/modalit...</td>\n      <td>MODALITÉS DE DÉCLARATION</td>\n      <td>Modalités de déclaration\\nLe principe : une se...</td>\n    </tr>\n    <tr>\n      <th>2</th>\n      <td>2</td>\n      <td>https://www.impots.gouv.fr/particulier/declare...</td>\n      <td>https://www.impots.gouv.fr/particulier/je-decl...</td>\n      <td>https://www.impots.gouv.fr/particulier/declare...</td>\n      <td>DÉCLAREZ EN LIGNE</td>\n      <td>Déclarez en ligne\\nLes avantages de la déclara...</td>\n    </tr>\n    <tr>\n      <th>3</th>\n      <td>3</td>\n      <td>https://www.impots.gouv.fr/particulier/declare...</td>\n      <td>https://www.impots.gouv.fr/particulier/je-decl...</td>\n      <td>https://www.impots.gouv.fr/particulier/votre-s...</td>\n      <td>VOTRE SITUATION DE FAMILLE</td>\n      <td>Votre situation de famille\\nPrélèvement à la s...</td>\n    </tr>\n    <tr>\n      <th>4</th>\n      <td>4</td>\n      <td>https://www.impots.gouv.fr/particulier/declare...</td>\n      <td>https://www.impots.gouv.fr/particulier/je-decl...</td>\n      <td>https://www.impots.gouv.fr/particulier/enfants...</td>\n      <td>ENFANTS MINEURS</td>\n      <td>Enfants mineurs\\nPrélèvement à la source : afi...</td>\n    </tr>\n  </tbody>\n</table>\n</div>"
     },
     "execution_count": 9,
     "metadata": {},
     "output_type": "execute_result"
    }
   ],
   "source": [
    "info = pd.read_csv(\"info_particulier_impot.csv\")\n",
    "info.head()"
   ],
   "metadata": {
    "collapsed": false,
    "ExecuteTime": {
     "end_time": "2025-06-25T08:08:53.221484Z",
     "start_time": "2025-06-25T08:08:53.184322Z"
    }
   },
   "id": "e4600fad4a7b2532",
   "execution_count": 9
  },
  {
   "cell_type": "code",
   "outputs": [
    {
     "data": {
      "text/plain": "(113, 6)"
     },
     "execution_count": 10,
     "metadata": {},
     "output_type": "execute_result"
    }
   ],
   "source": [
    "info.shape"
   ],
   "metadata": {
    "collapsed": false,
    "ExecuteTime": {
     "end_time": "2025-06-25T08:08:53.229140Z",
     "start_time": "2025-06-25T08:08:53.222818Z"
    }
   },
   "id": "98a521245a129bb8",
   "execution_count": 10
  },
  {
   "cell_type": "code",
   "outputs": [
    {
     "data": {
      "text/plain": "0      Obligations déclaratives\\nL'obligation de décl...\n1      Modalités de déclaration\\nLe principe : une se...\n2      Déclarez en ligne\\nLes avantages de la déclara...\n3      Votre situation de famille\\nPrélèvement à la s...\n4      Enfants mineurs\\nPrélèvement à la source : afi...\n                             ...                        \n108    Délais de réclamation\\nPour l'impôt sur le rev...\n109    Suivre ma réclamation\\nComment suivre ma récla...\n110    Le conciliateur départemental\\nUn différend vo...\n111    Le médiateur du Ministère\\nL’institution du mé...\n112    Délai de paiement\\nSi vous avez des difficulté...\nName: Texte, Length: 113, dtype: object"
     },
     "execution_count": 11,
     "metadata": {},
     "output_type": "execute_result"
    }
   ],
   "source": [
    "info[\"Texte\"]"
   ],
   "metadata": {
    "collapsed": false,
    "ExecuteTime": {
     "end_time": "2025-06-25T08:08:53.238228Z",
     "start_time": "2025-06-25T08:08:53.230205Z"
    }
   },
   "id": "fe71576c35be552",
   "execution_count": 11
  },
  {
   "cell_type": "code",
   "outputs": [
    {
     "data": {
      "text/plain": "True"
     },
     "execution_count": 12,
     "metadata": {},
     "output_type": "execute_result"
    }
   ],
   "source": [
    "from dotenv import load_dotenv\n",
    "load_dotenv()"
   ],
   "metadata": {
    "collapsed": false,
    "ExecuteTime": {
     "end_time": "2025-06-25T08:08:53.265717Z",
     "start_time": "2025-06-25T08:08:53.239529Z"
    }
   },
   "id": "cceb45a4722d7127",
   "execution_count": 12
  },
  {
   "cell_type": "code",
   "outputs": [
    {
     "data": {
      "text/plain": "Loading checkpoint shards:   0%|          | 0/3 [00:00<?, ?it/s]",
      "application/vnd.jupyter.widget-view+json": {
       "version_major": 2,
       "version_minor": 0,
       "model_id": "0a8f39c06cfa424c8814a9ecc1fafe23"
      }
     },
     "metadata": {},
     "output_type": "display_data"
    },
    {
     "name": "stderr",
     "output_type": "stream",
     "text": [
      "Device set to use cpu\n",
      "Setting `pad_token_id` to `eos_token_id`:2 for open-end generation.\n",
      "\n",
      "KeyboardInterrupt\n",
      "\n"
     ]
    }
   ],
   "source": [
    "import os\n",
    "import torch\n",
    "from transformers import AutoModelForCausalLM, AutoTokenizer, pipeline\n",
    "\n",
    "hf_token = os.environ.get(\"HUGGINGFACE_TOKEN\", True)\n",
    "model_id = \"mistralai/Mistral-7B-Instruct-v0.3\"\n",
    "\n",
    "# Charge tokenizer (en mode slow si tu préfères)\n",
    "tokenizer = AutoTokenizer.from_pretrained(\n",
    "    model_id,\n",
    "    trust_remote_code=True,\n",
    "    token=hf_token,\n",
    "    use_fast=False\n",
    ")\n",
    "\n",
    "# Charge le modèle SANS device_map\n",
    "model = AutoModelForCausalLM.from_pretrained(\n",
    "    model_id,\n",
    "    torch_dtype=torch.float16,   # ou torch.float32 si pas de GPU compatible\n",
    "    trust_remote_code=True,\n",
    "    token=hf_token\n",
    ")\n",
    "\n",
    "# Déplace le modèle sur CUDA (ou CPU si pas de GPU)\n",
    "device = \"cuda\" if torch.cuda.is_available() else \"cpu\"\n",
    "model.to(device)\n",
    "\n",
    "# Prépare le pipeline\n",
    "chat = pipeline(\n",
    "    \"text-generation\",\n",
    "    model=model,\n",
    "    tokenizer=tokenizer,\n",
    "    device=0 if device==\"cuda\" else -1,  # 0 pour le GPU, -1 pour CPU\n",
    "    max_new_tokens=200,\n",
    "    temperature=0.7,\n",
    "    do_sample=True,\n",
    "    token=hf_token\n",
    ")\n",
    "\n",
    "# Génère une réponse\n",
    "prompt = \"[INST] Explique-moi le machine learning en deux phrases. [/INST]\"\n",
    "print(chat(prompt)[0][\"generated_text\"])\n"
   ],
   "metadata": {
    "collapsed": false,
    "ExecuteTime": {
     "end_time": "2025-06-25T08:17:38.239949Z",
     "start_time": "2025-06-25T08:08:53.266723Z"
    }
   },
   "id": "300e6ece5fd40812",
   "execution_count": 13
  },
  {
   "cell_type": "code",
   "outputs": [],
   "source": [
    "from transformers import AutoModelForCausalLM, AutoTokenizer\n",
    "\n",
    "try:\n",
    "    tokenizer = AutoTokenizer.from_pretrained(\n",
    "        model_id,\n",
    "        trust_remote_code=True,\n",
    "        token=hf_token,\n",
    "        use_fast=False,\n",
    "        local_files_only=True         # <— force le mode offline\n",
    "    )\n",
    "    model = AutoModelForCausalLM.from_pretrained(\n",
    "        model_id,\n",
    "        trust_remote_code=True,\n",
    "        token=hf_token,\n",
    "        local_files_only=True         # <— idem\n",
    "    )\n",
    "    print(\"Chargé depuis le cache.\")\n",
    "except Exception as e:\n",
    "    print(\"Modèle/tokenizer non trouvés en cache :\", e)\n",
    "    # Ici tu peux soit :\n",
    "    # 1. Retenter sans local_files_only pour déclencher le téléchargement,\n",
    "    # 2. Inviter l’utilisateur à lancer `huggingface-cli login` et réessayer.\n"
   ],
   "metadata": {
    "collapsed": false,
    "ExecuteTime": {
     "end_time": "2025-06-25T08:17:38.242737Z",
     "start_time": "2025-06-25T08:17:38.242737Z"
    }
   },
   "id": "155db5e74a561e42",
   "execution_count": null
  },
  {
   "cell_type": "code",
   "outputs": [],
   "source": [],
   "metadata": {
    "collapsed": false,
    "ExecuteTime": {
     "start_time": "2025-06-25T08:17:38.244183Z"
    }
   },
   "id": "1ca2a08141718ac4",
   "execution_count": null
  },
  {
   "cell_type": "code",
   "outputs": [],
   "source": [
    "\n",
    "# Déplace le modèle sur CUDA (ou CPU si pas de GPU)\n",
    "device = \"cuda\" if torch.cuda.is_available() else \"cpu\"\n",
    "model.to(device)\n",
    "\n",
    "# Prépare le pipeline\n",
    "chat = pipeline(\n",
    "    \"text-generation\",\n",
    "    model=model,\n",
    "    tokenizer=tokenizer,\n",
    "    device=0 if device==\"cuda\" else -1,  # 0 pour le GPU, -1 pour CPU\n",
    "    max_new_tokens=200,\n",
    "    temperature=0.7,\n",
    "    do_sample=True,\n",
    "    token=hf_token\n",
    ")\n",
    "\n",
    "# Génère une réponse\n",
    "prompt = \"[INST] Explique-moi le machine learning en deux phrases. [/INST]\"\n",
    "print(chat(prompt)[0][\"generated_text\"])\n"
   ],
   "metadata": {
    "collapsed": false,
    "ExecuteTime": {
     "start_time": "2025-06-25T08:17:38.245577Z"
    }
   },
   "id": "b690cb73c03ff185",
   "execution_count": null
  },
  {
   "cell_type": "code",
   "outputs": [],
   "source": [],
   "metadata": {
    "collapsed": false,
    "ExecuteTime": {
     "start_time": "2025-06-25T08:17:38.246777Z"
    }
   },
   "id": "c4b521b62431ad1c"
  }
 ],
 "metadata": {
  "kernelspec": {
   "display_name": "Python 3",
   "language": "python",
   "name": "python3"
  },
  "language_info": {
   "codemirror_mode": {
    "name": "ipython",
    "version": 2
   },
   "file_extension": ".py",
   "mimetype": "text/x-python",
   "name": "python",
   "nbconvert_exporter": "python",
   "pygments_lexer": "ipython2",
   "version": "2.7.6"
  }
 },
 "nbformat": 4,
 "nbformat_minor": 5
}
